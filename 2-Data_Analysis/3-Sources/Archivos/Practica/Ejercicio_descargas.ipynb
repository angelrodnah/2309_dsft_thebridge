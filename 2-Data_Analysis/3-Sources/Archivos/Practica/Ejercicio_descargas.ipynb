{
 "cells": [
  {
   "attachments": {},
   "cell_type": "markdown",
   "metadata": {},
   "source": [
    "## Ejercicio descargas"
   ]
  },
  {
   "attachments": {},
   "cell_type": "markdown",
   "metadata": {},
   "source": [
    "Python es un lenguaje de propósito general, por lo que podemos desarrollar otros programas,\n",
    "aparte de ciencia de datos, que nos permitan montar dashboards, crear APIs o automatizar\n",
    "procesos. En este caso vas a automatizar un proceso, en el que tendrás que desarrollar un\n",
    "script que ordene todos los archivos de una carpeta, dependiendo de la extensión de los\n",
    "mismos.\n",
    "\n",
    "\n",
    "El objetivo es ordenar la típica carpeta de cajón desastre donde se nos acumulan archivos de\n",
    "todos los formatos como: imágenes, words, presentaciones, excels, ejecutables, zips, etc... Y\n",
    "que no vamos a ir viendo archivo a archivo, ordenándolos.... La solución suele ser eliminarlo\n",
    "todo. Vamos a intentar no tener que llegar a eso, ordenando los ficheros automáticamente en\n",
    "carpetas y revisar las que nos interesen. La típica carpeta donde aplicaríamos este programa es\n",
    "la de “Descargas”, donde se suelen acumular muchos archivos temporales.\n",
    "\n",
    "\n",
    "Por tanto, **el programa tiene que guardar los archivos de la carpeta “Descargas” (o cualquier\n",
    "otra donde acumules mucho archivo temporal) en los siguientes directorios dentro de la\n",
    "propia carpeta “Descargas”**:\n",
    "- Imagenes\n",
    "- Documentos\n",
    "- Software\n",
    "- Otros\n",
    "\n",
    "Cada vez que ejecutes el script, automáticamente se ordenarán todos los archivos en sus\n",
    "correspondientes carpetas.\n"
   ]
  },
  {
   "cell_type": "code",
   "execution_count": 43,
   "metadata": {},
   "outputs": [],
   "source": [
    "doc_types = ('.doc', '.docx', '.txt', '.pdf', '.xls', '.ppt', '.xlsx', '.pptx')\n",
    "img_types = ('.jpg', '.jpeg', '.png', '.svg', '.gif', '.tif', '.tiff')\n",
    "software_types = ('.exe', '.py','.ipynb')"
   ]
  },
  {
   "attachments": {},
   "cell_type": "markdown",
   "metadata": {},
   "source": [
    "### 1. Crea un un programa con el flujo principal y encapsúlalo en funciones."
   ]
  },
  {
   "cell_type": "code",
   "execution_count": 32,
   "metadata": {},
   "outputs": [],
   "source": [
    "import os\n",
    "import shutil"
   ]
  },
  {
   "cell_type": "code",
   "execution_count": 8,
   "metadata": {},
   "outputs": [
    {
     "data": {
      "text/plain": [
       "'d:\\\\Carpeta_profesor\\\\2309_dsft_thebridge\\\\2-Data_Analysis\\\\3-Sources\\\\Archivos\\\\Practica'"
      ]
     },
     "execution_count": 8,
     "metadata": {},
     "output_type": "execute_result"
    }
   ],
   "source": [
    "\n",
    "os.getcwd()"
   ]
  },
  {
   "cell_type": "code",
   "execution_count": 10,
   "metadata": {},
   "outputs": [
    {
     "name": "stdout",
     "output_type": "stream",
     "text": [
      "ejercicios.png  es una imagen\n",
      "hola_mundo.py  es una software\n",
      "Intro_bootcamp_23_09_DS_FT.pdf  es un documento\n",
      "Intro_python.md es otro tipo de archivo\n"
     ]
    }
   ],
   "source": [
    "for archivo in os.listdir(os.getcwd()+\"\\\\carpeta_practica\"):\n",
    "    if archivo.endswith(doc_types):\n",
    "        print(archivo, \" es un documento\")\n",
    "    elif archivo.endswith(img_types):\n",
    "        print(archivo, \" es una imagen\")\n",
    "    elif archivo.endswith(software_types):\n",
    "        print(archivo, \" es una software\")\n",
    "    else:\n",
    "        print(archivo, \"es otro tipo de archivo\")"
   ]
  },
  {
   "cell_type": "code",
   "execution_count": 13,
   "metadata": {},
   "outputs": [
    {
     "data": {
      "text/plain": [
       "'d:\\\\Carpeta_profesor\\\\2309_dsft_thebridge\\\\2-Data_Analysis\\\\3-Sources\\\\Archivos\\\\Practica'"
      ]
     },
     "execution_count": 13,
     "metadata": {},
     "output_type": "execute_result"
    }
   ],
   "source": [
    "os.getcwd()"
   ]
  },
  {
   "cell_type": "code",
   "execution_count": 14,
   "metadata": {},
   "outputs": [],
   "source": [
    "os.chdir(os.getcwd()+\"\\\\carpeta_practica\")"
   ]
  },
  {
   "cell_type": "code",
   "execution_count": 15,
   "metadata": {},
   "outputs": [
    {
     "data": {
      "text/plain": [
       "'d:\\\\Carpeta_profesor\\\\2309_dsft_thebridge\\\\2-Data_Analysis\\\\3-Sources\\\\Archivos\\\\Practica\\\\carpeta_practica'"
      ]
     },
     "execution_count": 15,
     "metadata": {},
     "output_type": "execute_result"
    }
   ],
   "source": [
    "os.getcwd()"
   ]
  },
  {
   "cell_type": "code",
   "execution_count": 18,
   "metadata": {},
   "outputs": [
    {
     "ename": "FileExistsError",
     "evalue": "[WinError 183] No se puede crear un archivo que ya existe: 'Imagenes'",
     "output_type": "error",
     "traceback": [
      "\u001b[1;31m---------------------------------------------------------------------------\u001b[0m",
      "\u001b[1;31mFileExistsError\u001b[0m                           Traceback (most recent call last)",
      "\u001b[1;32md:\\Carpeta_profesor\\2309_dsft_thebridge\\2-Data_Analysis\\3-Sources\\Archivos\\Practica\\Ejercicio_descargas.ipynb Cell 10\u001b[0m line \u001b[0;36m1\n\u001b[1;32m----> <a href='vscode-notebook-cell:/d%3A/Carpeta_profesor/2309_dsft_thebridge/2-Data_Analysis/3-Sources/Archivos/Practica/Ejercicio_descargas.ipynb#X11sZmlsZQ%3D%3D?line=0'>1</a>\u001b[0m os\u001b[39m.\u001b[39;49mmkdir(\u001b[39m\"\u001b[39;49m\u001b[39mImagenes\u001b[39;49m\u001b[39m\"\u001b[39;49m)\n",
      "\u001b[1;31mFileExistsError\u001b[0m: [WinError 183] No se puede crear un archivo que ya existe: 'Imagenes'"
     ]
    }
   ],
   "source": [
    "os.mkdir(\"Imagenes\")"
   ]
  },
  {
   "cell_type": "code",
   "execution_count": 27,
   "metadata": {},
   "outputs": [],
   "source": [
    "os.makedirs('Imagenes', exist_ok=True)\n",
    "os.makedirs('Documentos', exist_ok=True)\n",
    "os.makedirs('Softwares', exist_ok=True)\n",
    "os.makedirs('Otros', exist_ok=True)"
   ]
  },
  {
   "cell_type": "code",
   "execution_count": 33,
   "metadata": {},
   "outputs": [
    {
     "name": "stdout",
     "output_type": "stream",
     "text": [
      "Documentos Es una carpeta\n",
      "Imagenes Es una carpeta\n",
      "Otros Es una carpeta\n",
      "Softwares Es una carpeta\n"
     ]
    }
   ],
   "source": [
    "for archivo in os.listdir():\n",
    "    if os.path.isdir(archivo):\n",
    "        print(archivo, \"Es una carpeta\")\n",
    "    elif archivo.endswith(doc_types):\n",
    "        # print(archivo, \" es un documento\")\n",
    "        shutil.move(archivo, \"Documentos\")\n",
    "    elif archivo.endswith(img_types):\n",
    "        # print(archivo, \" es una imagen\")\n",
    "        shutil.move(archivo, \"Imagenes\")\n",
    "    elif archivo.endswith(software_types):\n",
    "        # print(archivo, \" es una software\")\n",
    "        shutil.move(archivo, \"Softwares\")\n",
    "    else:\n",
    "        # print(archivo, \"es otro tipo de archivo\")\n",
    "        shutil.move(archivo, \"Otros\")"
   ]
  },
  {
   "cell_type": "code",
   "execution_count": 38,
   "metadata": {},
   "outputs": [],
   "source": [
    "def select_dir(ruta):\n",
    "    os.chdir(ruta)\n",
    "\n",
    "def create_categories():\n",
    "    os.makedirs('Imagenes', exist_ok=True)\n",
    "    os.makedirs('Documentos', exist_ok=True)\n",
    "    os.makedirs('Softwares', exist_ok=True)\n",
    "    os.makedirs('Otros', exist_ok=True)\n",
    "\n",
    "def move_files():\n",
    "    for archivo in os.listdir():\n",
    "        archivo = archivo.lower()\n",
    "        if os.path.isdir(archivo):\n",
    "            print(archivo, \"Es una carpeta\")\n",
    "        elif archivo.endswith(doc_types):\n",
    "            try:\n",
    "                shutil.move(archivo, \"Documentos\")\n",
    "            except Exception as e:\n",
    "                print(e)\n",
    "        elif archivo.endswith(img_types):\n",
    "            try:\n",
    "                shutil.move(archivo, \"Imagenes\")\n",
    "            except Exception as e:\n",
    "                print(e)\n",
    "        elif archivo.endswith(software_types):\n",
    "            try:\n",
    "                shutil.move(archivo, \"Softwares\")\n",
    "            except Exception as e:\n",
    "                print(e)\n",
    "        else:\n",
    "            try:\n",
    "                shutil.move(archivo, \"Otros\")\n",
    "            except Exception as e:\n",
    "                print(e)\n",
    "# def check_names():\n",
    "#     for archivo in os.listdir(os.getwd()+\"\\\\Imagenes\"):\n",
    "#         # if archivo == archivo_mover:\n",
    "#         #     # copia....\n"
   ]
  },
  {
   "cell_type": "code",
   "execution_count": null,
   "metadata": {},
   "outputs": [],
   "source": []
  },
  {
   "cell_type": "code",
   "execution_count": 35,
   "metadata": {},
   "outputs": [
    {
     "data": {
      "text/plain": [
       "'d:\\\\Carpeta_profesor\\\\2309_dsft_thebridge\\\\2-Data_Analysis\\\\3-Sources\\\\Archivos\\\\Practica\\\\carpeta_practica'"
      ]
     },
     "execution_count": 35,
     "metadata": {},
     "output_type": "execute_result"
    }
   ],
   "source": [
    "os.getcwd()"
   ]
  },
  {
   "cell_type": "code",
   "execution_count": 39,
   "metadata": {},
   "outputs": [
    {
     "name": "stdout",
     "output_type": "stream",
     "text": [
      "Destination path 'Otros\\Captura.PNG' already exists\n",
      "chromedriver_win32 Es una carpeta\n",
      "Destination path 'Otros\\chromedriver_win32 (1).zip' already exists\n",
      "Destination path 'Otros\\chromedriver_win32 (2).zip' already exists\n",
      "Destination path 'Otros\\chromedriver_win32.zip' already exists\n",
      "Destination path 'Documentos\\Cloud_Computing.pptx' already exists\n",
      "Destination path 'Otros\\docker-compose.yaml' already exists\n",
      "Documentos Es una carpeta\n",
      "documents Es una carpeta\n",
      "Fotos WorkinLan Es una carpeta\n",
      "Imagenes Es una carpeta\n",
      "images Es una carpeta\n",
      "Destination path 'Otros\\Laptop.rar' already exists\n",
      "mini fruits Es una carpeta\n",
      "Notebooks Es una carpeta\n",
      "others Es una carpeta\n",
      "Otros Es una carpeta\n",
      "Proyecto_Productivizacion Es una carpeta\n",
      "Destination path 'Documentos\\Prueba tecnica DS.pdf' already exists\n",
      "Destination path 'Documentos\\Prueba_tecnica_DS.pdf' already exists\n",
      "pyspark Es una carpeta\n",
      "Software Es una carpeta\n",
      "softwares Es una carpeta\n",
      "sqlitestudio-3.3.3 Es una carpeta\n",
      "Destination path 'Otros\\sqlitestudio-3.3.3.zip' already exists\n",
      "web_scraping_tb-20211013T082932Z-001 Es una carpeta\n",
      "wetransfer_fotos-summit-workinlan_2023-02-27_1106 Es una carpeta\n"
     ]
    }
   ],
   "source": [
    "ruta = \"C:\\\\Users\\\\Miguel Angel\\\\Downloads\"\n",
    "select_dir(ruta)\n",
    "create_categories()\n",
    "move_files()\n"
   ]
  },
  {
   "attachments": {},
   "cell_type": "markdown",
   "metadata": {},
   "source": [
    "### 2. Crea una clase Fichero en clase.py y un main.py con el programa principal partiendo de esa clase."
   ]
  },
  {
   "cell_type": "code",
   "execution_count": 51,
   "metadata": {},
   "outputs": [],
   "source": [
    "class Fichero:\n",
    "\n",
    "    def __init__(self, carpeta, extensions, ruta):\n",
    "        self.carpeta = carpeta\n",
    "        self.extensions = extensions\n",
    "        self.ruta = ruta\n",
    "        self.select_dir()\n",
    "        self.create_categories()\n",
    "        self.move_files()\n",
    "\n",
    "    def select_dir(self):\n",
    "        os.chdir(self.ruta)\n",
    "\n",
    "    def create_categories(self):\n",
    "        os.makedirs(self.carpeta, exist_ok=True)\n",
    "\n",
    "    def move_files(self):\n",
    "        for archivo in os.listdir():\n",
    "            if os.path.isdir(archivo):\n",
    "                print(archivo, \"Es una carpeta\")\n",
    "            elif archivo.endswith(self.extensions) or self.extensions==():\n",
    "                try:\n",
    "                    shutil.move(archivo, self.carpeta)\n",
    "                except Exception as e:\n",
    "                    print(e)\n"
   ]
  },
  {
   "cell_type": "code",
   "execution_count": 42,
   "metadata": {},
   "outputs": [],
   "source": [
    "ruta = \"D:\\\\Carpeta_profesor\\\\2309_dsft_thebridge\\\\2-Data_Analysis\\\\3-Sources\\\\Archivos\\\\Practica\\\\carpeta_practica\""
   ]
  },
  {
   "cell_type": "code",
   "execution_count": 55,
   "metadata": {},
   "outputs": [
    {
     "name": "stdout",
     "output_type": "stream",
     "text": [
      "Documentos Es una carpeta\n",
      "Imagenes Es una carpeta\n",
      "Markdowns Es una carpeta\n",
      "Otros Es una carpeta\n",
      "Softwares Es una carpeta\n",
      "Documentos Es una carpeta\n",
      "Imagenes Es una carpeta\n",
      "Markdowns Es una carpeta\n",
      "Otros Es una carpeta\n",
      "Softwares Es una carpeta\n",
      "Documentos Es una carpeta\n",
      "Imagenes Es una carpeta\n",
      "Markdowns Es una carpeta\n",
      "Otros Es una carpeta\n",
      "Softwares Es una carpeta\n",
      "Documentos Es una carpeta\n",
      "Imagenes Es una carpeta\n",
      "Markdowns Es una carpeta\n",
      "Otros Es una carpeta\n",
      "Softwares Es una carpeta\n",
      "Documentos Es una carpeta\n",
      "Imagenes Es una carpeta\n",
      "Markdowns Es una carpeta\n",
      "Otros Es una carpeta\n",
      "Softwares Es una carpeta\n"
     ]
    }
   ],
   "source": [
    "documentos = Fichero(\"Documentos\", doc_types, ruta)\n",
    "imagenes = Fichero(\"Imagenes\", img_types, ruta)\n",
    "softwares = Fichero(\"Softwares\", software_types, ruta)\n",
    "new_categorie = Fichero(\"Markdowns\", (\".md\"), ruta)\n",
    "# new_categorie = Fichero(\"Notebooks\", (\".ipynb\"), ruta)\n",
    "#  ...\n",
    "otros = Fichero(\"Otros\", (), ruta)"
   ]
  }
 ],
 "metadata": {
  "kernelspec": {
   "display_name": "Python 3.7.4 64-bit",
   "language": "python",
   "name": "python3"
  },
  "language_info": {
   "codemirror_mode": {
    "name": "ipython",
    "version": 3
   },
   "file_extension": ".py",
   "mimetype": "text/x-python",
   "name": "python",
   "nbconvert_exporter": "python",
   "pygments_lexer": "ipython3",
   "version": "3.11.3"
  },
  "orig_nbformat": 4,
  "vscode": {
   "interpreter": {
    "hash": "90139cb9a825bf3d63f6f6704e828dbd1ff7edbd4d0c6e906a71235d6efc74af"
   }
  }
 },
 "nbformat": 4,
 "nbformat_minor": 2
}
