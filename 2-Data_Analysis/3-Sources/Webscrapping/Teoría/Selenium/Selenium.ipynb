{
 "cells": [
  {
   "cell_type": "markdown",
   "metadata": {},
   "source": [
    "# Web Scraping: Selenium"
   ]
  },
  {
   "cell_type": "markdown",
   "metadata": {},
   "source": [
    "A menudo, los datos están disponibles públicamente para nosotros, pero no en una forma que sea fácilmente utilizable. Ahí es donde entra en juego el web scraping, podemos usar web scraping para obtener nuestros datos deseados en un formato conveniente que luego se puede usar. A continuación, mostraré cómo se puede extraer información de interés de un sitio web usando el paquete Selenium en Python. Selenium nos permite manejar una ventana del navegador e interactuar con el sitio web mediante programación. \n",
    "\n",
    "Selenium también tiene varios métodos que facilitan la extracción de datos.\n",
    "En este Jupyter Notebook vamos a usar Python 3 en Windows.\n",
    "\n",
    "En primer lugar, tendremos que descargar un controlador.\n",
    "\n",
    "Usaremos ChromeDriver para Google Chrome. Para obtener una lista completa de controladores y plataformas compatibles, consulte [Selenium](https://www.selenium.dev/downloads/). Si desea utilizar Google Chrome, diríjase a [chrome](https://chromedriver.chromium.org/) y descargue el controlador que corresponde a su versión actual de Google Chrome.\n",
    "\n",
    "Como saber cual es la version de chrome que utilizo simple utilizamos pegamos el siguiente enlace en la barra de chrome chrome://settings/help\n",
    "\n",
    "Antes de comenzar se preguntaran si ya se BeautifulSoup cual es la diferencia con Selenium.\n",
    "\n",
    "A diferencia BeautifulSoup, Selenium no trabaja con el texto fuente en HTML de la web en cuestión, sino que carga la página en un navegador sin interfaz de usuario. El navegador interpreta entonces el código fuente de la página y crea, a partir de él, un Document Object Model (modelo de objetos de documento o DOM). Esta interfaz estandarizada permite poner a prueba las interacciones de los usuarios. De esta forma se consigue, por ejemplo, simular clics y rellenar formularios automáticamente. Los cambios en la web que resultan de dichas acciones se reflejan en el DOM. La estructura del proceso de web scraping con Selenium es la siguiente:\n",
    "\n",
    "URL → Solicitud HTTP → HTML → Selenium → DOM\n",
    "\n"
   ]
  },
  {
   "cell_type": "markdown",
   "metadata": {},
   "source": [
    "## Comencemos importando las bibliotecas que usaremos:"
   ]
  },
  {
   "cell_type": "code",
   "execution_count": 2,
   "metadata": {},
   "outputs": [],
   "source": [
    "# pip install selenium"
   ]
  },
  {
   "cell_type": "code",
   "execution_count": 1,
   "metadata": {
    "ExecuteTime": {
     "end_time": "2021-02-26T12:16:59.303652Z",
     "start_time": "2021-02-26T12:16:59.300657Z"
    }
   },
   "outputs": [],
   "source": [
    "from selenium import webdriver\n",
    "from selenium.webdriver.chrome.service import Service\n",
    "from selenium.webdriver.common.by import By\n",
    "# import urllib3 # urllib3 es un cliente HTTP potente y fácil de usar para Python.\n",
    "import re # Expresiones regulares \n",
    "import time\n",
    "import pandas as pd"
   ]
  },
  {
   "cell_type": "markdown",
   "metadata": {},
   "source": [
    "El objeto driver es con el que trabajaremos a partir de ahora"
   ]
  },
  {
   "cell_type": "code",
   "execution_count": 2,
   "metadata": {},
   "outputs": [],
   "source": [
    "service = Service(executable_path='./chromedriver.exe')\n",
    "options = webdriver.ChromeOptions()"
   ]
  },
  {
   "cell_type": "code",
   "execution_count": 3,
   "metadata": {},
   "outputs": [],
   "source": [
    "driver = webdriver.Chrome(service=service, options=options)\n",
    "# ...\n",
    "# driver.quit()"
   ]
  },
  {
   "cell_type": "code",
   "execution_count": 4,
   "metadata": {},
   "outputs": [],
   "source": [
    "# Creamos el driver con el que nos vamos a manejar en la sesión de scrapeo:\n",
    "\n",
    "driver.get(\"http://www.google.es\")\n",
    "\n",
    "# time.sleep(5)\n",
    "\n",
    "# driver.quit()"
   ]
  },
  {
   "cell_type": "markdown",
   "metadata": {},
   "source": [
    "Ahora si queremos hacer click en el boton de \"Rechazar\". Selenium proporciona varios métodos para localizar elementos en la página web. Usaremos el método find_element para crear un objeto de botón, con el que luego podremos interactuar:"
   ]
  },
  {
   "cell_type": "code",
   "execution_count": 5,
   "metadata": {},
   "outputs": [],
   "source": [
    "loadMore = driver.find_element(By.XPATH, '/html/body/div[2]/div[3]/div[3]/span/div/div/div/div[3]/div[1]/button[1]/div')"
   ]
  },
  {
   "cell_type": "code",
   "execution_count": 6,
   "metadata": {},
   "outputs": [],
   "source": [
    "loadMore.click()"
   ]
  },
  {
   "cell_type": "code",
   "execution_count": 7,
   "metadata": {},
   "outputs": [],
   "source": [
    "search_box = driver.find_element(By.XPATH, \"/html/body/div[1]/div[3]/form/div[1]/div[1]/div[1]/div/div[2]/textarea\")\n",
    "search_box.send_keys(\"thebridgeschool\")\n",
    "search_box.submit()"
   ]
  },
  {
   "cell_type": "code",
   "execution_count": 8,
   "metadata": {},
   "outputs": [],
   "source": [
    "driver.quit()"
   ]
  },
  {
   "cell_type": "markdown",
   "metadata": {},
   "source": [
    "# Filmaffinity"
   ]
  },
  {
   "cell_type": "code",
   "execution_count": 9,
   "metadata": {},
   "outputs": [],
   "source": [
    "service = Service(executable_path='./chromedriver.exe')\n",
    "# options = webdriver.ChromeOptions()\n",
    "driver = webdriver.Chrome(service=service, options=options)"
   ]
  },
  {
   "cell_type": "code",
   "execution_count": 10,
   "metadata": {},
   "outputs": [],
   "source": [
    "# indicamos la URL de la página web a la que queremos acceder:\n",
    "url = 'https://www.filmaffinity.com/es/main.html'\n",
    "# el objeto driver nos va a permitir alterar el estado del la página\n",
    "driver.get(url)"
   ]
  },
  {
   "cell_type": "markdown",
   "metadata": {},
   "source": [
    "La página de Filmaffinity se ha abierto"
   ]
  },
  {
   "cell_type": "markdown",
   "metadata": {},
   "source": [
    "Pero...."
   ]
  },
  {
   "cell_type": "markdown",
   "metadata": {},
   "source": [
    "Nos hemos encontrado con un pop-up que nos pide aceptar cookies"
   ]
  },
  {
   "cell_type": "markdown",
   "metadata": {},
   "source": [
    "1. Buscamos el botón\n",
    "2. Hacemos click en el botón"
   ]
  },
  {
   "cell_type": "markdown",
   "metadata": {},
   "source": [
    "Vamos a quitar el boton para seguir"
   ]
  },
  {
   "cell_type": "code",
   "execution_count": 11,
   "metadata": {
    "ExecuteTime": {
     "end_time": "2021-02-26T10:22:48.546287Z",
     "start_time": "2021-02-26T10:22:48.489040Z"
    }
   },
   "outputs": [],
   "source": [
    "elements_by_tag = driver.find_elements(By.TAG_NAME,'button')\n",
    "elements_by_class_name = driver.find_elements(By.CLASS_NAME, 'css-2tkghh')\n",
    "element_by_xpath = driver.find_element(By.XPATH, '/html/body/div[1]/div/div/div/div[2]/div/button[2]')"
   ]
  },
  {
   "cell_type": "markdown",
   "metadata": {},
   "source": [
    "Una vez tenemos los elementos podemos hacer varias cosas con ellos"
   ]
  },
  {
   "cell_type": "markdown",
   "metadata": {},
   "source": [
    "Podemos extraer todos los atributos que tenga"
   ]
  },
  {
   "cell_type": "code",
   "execution_count": 35,
   "metadata": {
    "ExecuteTime": {
     "end_time": "2021-02-26T10:22:51.542538Z",
     "start_time": "2021-02-26T10:22:51.508077Z"
    }
   },
   "outputs": [
    {
     "data": {
      "text/plain": [
       "['__abstractmethods__',\n",
       " '__class__',\n",
       " '__delattr__',\n",
       " '__dict__',\n",
       " '__dir__',\n",
       " '__doc__',\n",
       " '__eq__',\n",
       " '__format__',\n",
       " '__ge__',\n",
       " '__getattribute__',\n",
       " '__getstate__',\n",
       " '__gt__',\n",
       " '__hash__',\n",
       " '__init__',\n",
       " '__init_subclass__',\n",
       " '__le__',\n",
       " '__lt__',\n",
       " '__module__',\n",
       " '__ne__',\n",
       " '__new__',\n",
       " '__reduce__',\n",
       " '__reduce_ex__',\n",
       " '__repr__',\n",
       " '__setattr__',\n",
       " '__sizeof__',\n",
       " '__str__',\n",
       " '__subclasshook__',\n",
       " '__weakref__',\n",
       " '_abc_impl',\n",
       " '_execute',\n",
       " '_id',\n",
       " '_parent',\n",
       " '_upload',\n",
       " 'accessible_name',\n",
       " 'aria_role',\n",
       " 'clear',\n",
       " 'click',\n",
       " 'find_element',\n",
       " 'find_elements',\n",
       " 'get_attribute',\n",
       " 'get_dom_attribute',\n",
       " 'get_property',\n",
       " 'id',\n",
       " 'is_displayed',\n",
       " 'is_enabled',\n",
       " 'is_selected',\n",
       " 'location',\n",
       " 'location_once_scrolled_into_view',\n",
       " 'parent',\n",
       " 'rect',\n",
       " 'screenshot',\n",
       " 'screenshot_as_base64',\n",
       " 'screenshot_as_png',\n",
       " 'send_keys',\n",
       " 'shadow_root',\n",
       " 'size',\n",
       " 'submit',\n",
       " 'tag_name',\n",
       " 'text',\n",
       " 'value_of_css_property']"
      ]
     },
     "execution_count": 35,
     "metadata": {},
     "output_type": "execute_result"
    }
   ],
   "source": [
    "dir(element_by_xpath)\n",
    "# obtenemos todos sus métodos y atributos:"
   ]
  },
  {
   "cell_type": "markdown",
   "metadata": {},
   "source": [
    "Podemos evaluar que tipo de elemento es (tag)"
   ]
  },
  {
   "cell_type": "code",
   "execution_count": 36,
   "metadata": {
    "ExecuteTime": {
     "end_time": "2021-02-26T10:22:53.325430Z",
     "start_time": "2021-02-26T10:22:53.306520Z"
    }
   },
   "outputs": [
    {
     "data": {
      "text/plain": [
       "'button'"
      ]
     },
     "execution_count": 36,
     "metadata": {},
     "output_type": "execute_result"
    }
   ],
   "source": [
    "element_by_xpath.tag_name"
   ]
  },
  {
   "cell_type": "markdown",
   "metadata": {},
   "source": [
    "Podemos sacar el valor que tiene (el texto)"
   ]
  },
  {
   "cell_type": "code",
   "execution_count": 37,
   "metadata": {
    "ExecuteTime": {
     "end_time": "2021-02-26T10:22:54.583190Z",
     "start_time": "2021-02-26T10:22:54.553596Z"
    }
   },
   "outputs": [
    {
     "data": {
      "text/plain": [
       "'ACEPTO'"
      ]
     },
     "execution_count": 37,
     "metadata": {},
     "output_type": "execute_result"
    }
   ],
   "source": [
    "element_by_xpath.text"
   ]
  },
  {
   "cell_type": "code",
   "execution_count": 12,
   "metadata": {},
   "outputs": [
    {
     "name": "stdout",
     "output_type": "stream",
     "text": [
      "socios\n",
      "MÁS OPCIONES\n",
      "ACEPTO\n"
     ]
    }
   ],
   "source": [
    "for i in range(0,len(elements_by_tag)):\n",
    "    print(elements_by_tag[i].text)"
   ]
  },
  {
   "cell_type": "markdown",
   "metadata": {},
   "source": [
    "Incluso podemos guardar una imagen del elemento"
   ]
  },
  {
   "cell_type": "code",
   "execution_count": 40,
   "metadata": {},
   "outputs": [
    {
     "data": {
      "text/plain": [
       "selenium.webdriver.remote.webelement.WebElement"
      ]
     },
     "execution_count": 40,
     "metadata": {},
     "output_type": "execute_result"
    }
   ],
   "source": [
    "type(element_by_xpath)\n",
    "# Vemos que es tipo 'WebElement' y en la documentación podremos encontrar sus métodos"
   ]
  },
  {
   "cell_type": "code",
   "execution_count": 13,
   "metadata": {
    "ExecuteTime": {
     "end_time": "2021-02-26T10:24:41.830050Z",
     "start_time": "2021-02-26T10:24:41.510086Z"
    }
   },
   "outputs": [
    {
     "data": {
      "text/plain": [
       "True"
      ]
     },
     "execution_count": 13,
     "metadata": {},
     "output_type": "execute_result"
    }
   ],
   "source": [
    "# guardamos como 'mi_imagen.png' la imagen asociada al xpath\n",
    "element_by_xpath.screenshot('mi_imagen.png')"
   ]
  },
  {
   "cell_type": "markdown",
   "metadata": {
    "ExecuteTime": {
     "end_time": "2021-02-25T09:56:21.322475Z",
     "start_time": "2021-02-25T09:56:21.318715Z"
    }
   },
   "source": [
    "Evaluamos que elementos hemos encontrado por el tag:"
   ]
  },
  {
   "cell_type": "code",
   "execution_count": 14,
   "metadata": {},
   "outputs": [
    {
     "name": "stdout",
     "output_type": "stream",
     "text": [
      "Elemento: 0\n",
      "Texto del elemento 0 es socios\n",
      "El tag del elemento 0 es button\n"
     ]
    },
    {
     "name": "stdout",
     "output_type": "stream",
     "text": [
      "Elemento: 1\n",
      "Texto del elemento 1 es MÁS OPCIONES\n",
      "El tag del elemento 1 es button\n",
      "Elemento: 2\n",
      "Texto del elemento 2 es ACEPTO\n",
      "El tag del elemento 2 es button\n"
     ]
    }
   ],
   "source": [
    "for index, element in enumerate(elements_by_tag):\n",
    "    print('Elemento:', index)\n",
    "    print('Texto del elemento',index, 'es', element.text)\n",
    "    print('El tag del elemento',index, 'es', element.tag_name)\n",
    "    element.screenshot('mi_imagen'+str(index)+'.png')"
   ]
  },
  {
   "cell_type": "markdown",
   "metadata": {},
   "source": [
    "Basta de tonterias seguimos"
   ]
  },
  {
   "cell_type": "markdown",
   "metadata": {},
   "source": [
    "Instanciamos el elemento del tag [2] en la variable boton aceptar"
   ]
  },
  {
   "cell_type": "code",
   "execution_count": 15,
   "metadata": {
    "ExecuteTime": {
     "end_time": "2021-02-26T10:24:47.302978Z",
     "start_time": "2021-02-26T10:24:47.291261Z"
    }
   },
   "outputs": [],
   "source": [
    "boton_aceptar = elements_by_tag[2]"
   ]
  },
  {
   "cell_type": "markdown",
   "metadata": {},
   "source": [
    "Si el elemento es interactivo podremos hacer más cosas además de las anteriores. Por ejemplo: hacer click"
   ]
  },
  {
   "cell_type": "code",
   "execution_count": 16,
   "metadata": {
    "ExecuteTime": {
     "end_time": "2021-02-26T10:24:48.611716Z",
     "start_time": "2021-02-26T10:24:48.390430Z"
    }
   },
   "outputs": [],
   "source": [
    "boton_aceptar.click()"
   ]
  },
  {
   "cell_type": "markdown",
   "metadata": {},
   "source": [
    "Buscamos una película por título"
   ]
  },
  {
   "cell_type": "code",
   "execution_count": 20,
   "metadata": {},
   "outputs": [],
   "source": [
    "from selenium.webdriver.common.keys import Keys"
   ]
  },
  {
   "cell_type": "code",
   "execution_count": 17,
   "metadata": {
    "ExecuteTime": {
     "end_time": "2021-02-26T10:28:14.592155Z",
     "start_time": "2021-02-26T10:28:13.509998Z"
    }
   },
   "outputs": [],
   "source": [
    "buscador = driver.find_element(By.XPATH, '/html/body/header/div[1]/div/div[2]/div/form/div/input')"
   ]
  },
  {
   "cell_type": "code",
   "execution_count": 18,
   "metadata": {},
   "outputs": [],
   "source": [
    "buscador.send_keys('Oppenheimmer')\n",
    "# buscador.clear()"
   ]
  },
  {
   "cell_type": "code",
   "execution_count": 21,
   "metadata": {},
   "outputs": [],
   "source": [
    "# una vez escrita la búsqueda deberíamos poder activarla:\n",
    "buscador.send_keys(Keys.ENTER)"
   ]
  },
  {
   "cell_type": "code",
   "execution_count": 25,
   "metadata": {},
   "outputs": [],
   "source": [
    "# volvemos a la página anterior\n",
    "driver.back()"
   ]
  },
  {
   "cell_type": "code",
   "execution_count": 23,
   "metadata": {},
   "outputs": [],
   "source": [
    "buscador = driver.find_element(By.XPATH, '/html/body/header/div[1]/div/div[2]/div/form/div/input')\n",
    "buscador.send_keys('Oppenheimer')"
   ]
  },
  {
   "cell_type": "code",
   "execution_count": 24,
   "metadata": {},
   "outputs": [],
   "source": [
    "buscador.send_keys(Keys.ENTER)"
   ]
  },
  {
   "cell_type": "markdown",
   "metadata": {
    "ExecuteTime": {
     "end_time": "2021-02-25T10:09:19.308961Z",
     "start_time": "2021-02-25T10:09:19.299983Z"
    }
   },
   "source": [
    "### Vamos a buscar todas las películas que se estrenan el próximo viernes"
   ]
  },
  {
   "cell_type": "markdown",
   "metadata": {},
   "source": [
    "1. Cogemos los containers que hay en la zona lateral"
   ]
  },
  {
   "cell_type": "code",
   "execution_count": 26,
   "metadata": {
    "ExecuteTime": {
     "end_time": "2021-02-25T10:40:53.961145Z",
     "start_time": "2021-02-25T10:40:53.793388Z"
    }
   },
   "outputs": [],
   "source": [
    "menu_lateral = driver.find_element(By.ID, 'lsmenu') "
   ]
  },
  {
   "cell_type": "code",
   "execution_count": 27,
   "metadata": {},
   "outputs": [],
   "source": [
    "mis_secciones = menu_lateral.find_elements(By.TAG_NAME, 'a')"
   ]
  },
  {
   "cell_type": "markdown",
   "metadata": {},
   "source": [
    "2. Vemos con cuál nos tenemos que quedar"
   ]
  },
  {
   "cell_type": "code",
   "execution_count": 28,
   "metadata": {
    "ExecuteTime": {
     "end_time": "2021-02-25T10:40:55.130681Z",
     "start_time": "2021-02-25T10:40:54.930234Z"
    }
   },
   "outputs": [
    {
     "ename": "StaleElementReferenceException",
     "evalue": "Message: stale element reference: stale element not found\n  (Session info: chrome=118.0.5993.71); For documentation on this error, please visit: https://www.selenium.dev/documentation/webdriver/troubleshooting/errors#stale-element-reference-exception\nStacktrace:\n\tGetHandleVerifier [0x00007FF76CB38EF2+54786]\n\t(No symbol) [0x00007FF76CAA5612]\n\t(No symbol) [0x00007FF76C95A64B]\n\t(No symbol) [0x00007FF76C9683FC]\n\t(No symbol) [0x00007FF76C95FA59]\n\t(No symbol) [0x00007FF76C95E34A]\n\t(No symbol) [0x00007FF76C96115F]\n\t(No symbol) [0x00007FF76C961250]\n\t(No symbol) [0x00007FF76C99D265]\n\t(No symbol) [0x00007FF76C992796]\n\t(No symbol) [0x00007FF76C9BBE6A]\n\t(No symbol) [0x00007FF76C9922E6]\n\t(No symbol) [0x00007FF76C9BC080]\n\t(No symbol) [0x00007FF76C9D4D02]\n\t(No symbol) [0x00007FF76C9BBC43]\n\t(No symbol) [0x00007FF76C990941]\n\t(No symbol) [0x00007FF76C991B84]\n\tGetHandleVerifier [0x00007FF76CE87F52+3524194]\n\tGetHandleVerifier [0x00007FF76CEDD800+3874576]\n\tGetHandleVerifier [0x00007FF76CED5D7F+3843215]\n\tGetHandleVerifier [0x00007FF76CBD5086+694166]\n\t(No symbol) [0x00007FF76CAB0A88]\n\t(No symbol) [0x00007FF76CAACA94]\n\t(No symbol) [0x00007FF76CAACBC2]\n\t(No symbol) [0x00007FF76CA9CC83]\n\tBaseThreadInitThunk [0x00007FFA7A497034+20]\n\tRtlUserThreadStart [0x00007FFA7B482651+33]\n",
     "output_type": "error",
     "traceback": [
      "\u001b[1;31m---------------------------------------------------------------------------\u001b[0m",
      "\u001b[1;31mStaleElementReferenceException\u001b[0m            Traceback (most recent call last)",
      "\u001b[1;32md:\\Carpeta_profesor\\2309_dsft_thebridge\\2-Data_Analysis\\3-Sources\\Webscrapping\\Teoría\\Selenium\\Selenium.ipynb Cell 55\u001b[0m line \u001b[0;36m2\n\u001b[0;32m      <a href='vscode-notebook-cell:/d%3A/Carpeta_profesor/2309_dsft_thebridge/2-Data_Analysis/3-Sources/Webscrapping/Teor%C3%ADa/Selenium/Selenium.ipynb#Y105sZmlsZQ%3D%3D?line=0'>1</a>\u001b[0m \u001b[39mfor\u001b[39;00m a \u001b[39min\u001b[39;00m mis_secciones:\n\u001b[1;32m----> <a href='vscode-notebook-cell:/d%3A/Carpeta_profesor/2309_dsft_thebridge/2-Data_Analysis/3-Sources/Webscrapping/Teor%C3%ADa/Selenium/Selenium.ipynb#Y105sZmlsZQ%3D%3D?line=1'>2</a>\u001b[0m     a\u001b[39m.\u001b[39;49mclick()\n\u001b[0;32m      <a href='vscode-notebook-cell:/d%3A/Carpeta_profesor/2309_dsft_thebridge/2-Data_Analysis/3-Sources/Webscrapping/Teor%C3%ADa/Selenium/Selenium.ipynb#Y105sZmlsZQ%3D%3D?line=2'>3</a>\u001b[0m     time\u001b[39m.\u001b[39msleep(\u001b[39m3\u001b[39m)\n\u001b[0;32m      <a href='vscode-notebook-cell:/d%3A/Carpeta_profesor/2309_dsft_thebridge/2-Data_Analysis/3-Sources/Webscrapping/Teor%C3%ADa/Selenium/Selenium.ipynb#Y105sZmlsZQ%3D%3D?line=3'>4</a>\u001b[0m     driver\u001b[39m.\u001b[39mback()\n",
      "File \u001b[1;32mc:\\Users\\Miguel Angel\\AppData\\Local\\Programs\\Python\\Python311\\Lib\\site-packages\\selenium\\webdriver\\remote\\webelement.py:93\u001b[0m, in \u001b[0;36mWebElement.click\u001b[1;34m(self)\u001b[0m\n\u001b[0;32m     91\u001b[0m \u001b[39mdef\u001b[39;00m \u001b[39mclick\u001b[39m(\u001b[39mself\u001b[39m) \u001b[39m-\u001b[39m\u001b[39m>\u001b[39m \u001b[39mNone\u001b[39;00m:\n\u001b[0;32m     92\u001b[0m \u001b[39m    \u001b[39m\u001b[39m\"\"\"Clicks the element.\"\"\"\u001b[39;00m\n\u001b[1;32m---> 93\u001b[0m     \u001b[39mself\u001b[39;49m\u001b[39m.\u001b[39;49m_execute(Command\u001b[39m.\u001b[39;49mCLICK_ELEMENT)\n",
      "File \u001b[1;32mc:\\Users\\Miguel Angel\\AppData\\Local\\Programs\\Python\\Python311\\Lib\\site-packages\\selenium\\webdriver\\remote\\webelement.py:394\u001b[0m, in \u001b[0;36mWebElement._execute\u001b[1;34m(self, command, params)\u001b[0m\n\u001b[0;32m    392\u001b[0m     params \u001b[39m=\u001b[39m {}\n\u001b[0;32m    393\u001b[0m params[\u001b[39m\"\u001b[39m\u001b[39mid\u001b[39m\u001b[39m\"\u001b[39m] \u001b[39m=\u001b[39m \u001b[39mself\u001b[39m\u001b[39m.\u001b[39m_id\n\u001b[1;32m--> 394\u001b[0m \u001b[39mreturn\u001b[39;00m \u001b[39mself\u001b[39;49m\u001b[39m.\u001b[39;49m_parent\u001b[39m.\u001b[39;49mexecute(command, params)\n",
      "File \u001b[1;32mc:\\Users\\Miguel Angel\\AppData\\Local\\Programs\\Python\\Python311\\Lib\\site-packages\\selenium\\webdriver\\remote\\webdriver.py:344\u001b[0m, in \u001b[0;36mWebDriver.execute\u001b[1;34m(self, driver_command, params)\u001b[0m\n\u001b[0;32m    342\u001b[0m response \u001b[39m=\u001b[39m \u001b[39mself\u001b[39m\u001b[39m.\u001b[39mcommand_executor\u001b[39m.\u001b[39mexecute(driver_command, params)\n\u001b[0;32m    343\u001b[0m \u001b[39mif\u001b[39;00m response:\n\u001b[1;32m--> 344\u001b[0m     \u001b[39mself\u001b[39;49m\u001b[39m.\u001b[39;49merror_handler\u001b[39m.\u001b[39;49mcheck_response(response)\n\u001b[0;32m    345\u001b[0m     response[\u001b[39m\"\u001b[39m\u001b[39mvalue\u001b[39m\u001b[39m\"\u001b[39m] \u001b[39m=\u001b[39m \u001b[39mself\u001b[39m\u001b[39m.\u001b[39m_unwrap_value(response\u001b[39m.\u001b[39mget(\u001b[39m\"\u001b[39m\u001b[39mvalue\u001b[39m\u001b[39m\"\u001b[39m, \u001b[39mNone\u001b[39;00m))\n\u001b[0;32m    346\u001b[0m     \u001b[39mreturn\u001b[39;00m response\n",
      "File \u001b[1;32mc:\\Users\\Miguel Angel\\AppData\\Local\\Programs\\Python\\Python311\\Lib\\site-packages\\selenium\\webdriver\\remote\\errorhandler.py:229\u001b[0m, in \u001b[0;36mErrorHandler.check_response\u001b[1;34m(self, response)\u001b[0m\n\u001b[0;32m    227\u001b[0m         alert_text \u001b[39m=\u001b[39m value[\u001b[39m\"\u001b[39m\u001b[39malert\u001b[39m\u001b[39m\"\u001b[39m]\u001b[39m.\u001b[39mget(\u001b[39m\"\u001b[39m\u001b[39mtext\u001b[39m\u001b[39m\"\u001b[39m)\n\u001b[0;32m    228\u001b[0m     \u001b[39mraise\u001b[39;00m exception_class(message, screen, stacktrace, alert_text)  \u001b[39m# type: ignore[call-arg]  # mypy is not smart enough here\u001b[39;00m\n\u001b[1;32m--> 229\u001b[0m \u001b[39mraise\u001b[39;00m exception_class(message, screen, stacktrace)\n",
      "\u001b[1;31mStaleElementReferenceException\u001b[0m: Message: stale element reference: stale element not found\n  (Session info: chrome=118.0.5993.71); For documentation on this error, please visit: https://www.selenium.dev/documentation/webdriver/troubleshooting/errors#stale-element-reference-exception\nStacktrace:\n\tGetHandleVerifier [0x00007FF76CB38EF2+54786]\n\t(No symbol) [0x00007FF76CAA5612]\n\t(No symbol) [0x00007FF76C95A64B]\n\t(No symbol) [0x00007FF76C9683FC]\n\t(No symbol) [0x00007FF76C95FA59]\n\t(No symbol) [0x00007FF76C95E34A]\n\t(No symbol) [0x00007FF76C96115F]\n\t(No symbol) [0x00007FF76C961250]\n\t(No symbol) [0x00007FF76C99D265]\n\t(No symbol) [0x00007FF76C992796]\n\t(No symbol) [0x00007FF76C9BBE6A]\n\t(No symbol) [0x00007FF76C9922E6]\n\t(No symbol) [0x00007FF76C9BC080]\n\t(No symbol) [0x00007FF76C9D4D02]\n\t(No symbol) [0x00007FF76C9BBC43]\n\t(No symbol) [0x00007FF76C990941]\n\t(No symbol) [0x00007FF76C991B84]\n\tGetHandleVerifier [0x00007FF76CE87F52+3524194]\n\tGetHandleVerifier [0x00007FF76CEDD800+3874576]\n\tGetHandleVerifier [0x00007FF76CED5D7F+3843215]\n\tGetHandleVerifier [0x00007FF76CBD5086+694166]\n\t(No symbol) [0x00007FF76CAB0A88]\n\t(No symbol) [0x00007FF76CAACA94]\n\t(No symbol) [0x00007FF76CAACBC2]\n\t(No symbol) [0x00007FF76CA9CC83]\n\tBaseThreadInitThunk [0x00007FFA7A497034+20]\n\tRtlUserThreadStart [0x00007FFA7B482651+33]\n"
     ]
    }
   ],
   "source": [
    "for a in mis_secciones:\n",
    "    a.click()\n",
    "    time.sleep(3)\n",
    "    driver.back()"
   ]
  },
  {
   "cell_type": "markdown",
   "metadata": {},
   "source": [
    "Accedemos al container central, en el que aparecen los estrenos por semana que queremos ver, exactamente igual que hemos hecho antes"
   ]
  },
  {
   "cell_type": "code",
   "execution_count": 29,
   "metadata": {
    "ExecuteTime": {
     "end_time": "2021-02-25T10:43:53.772471Z",
     "start_time": "2021-02-25T10:43:53.757510Z"
    }
   },
   "outputs": [],
   "source": [
    "cajon_central = driver.find_elements(By.CLASS_NAME, 'padding-movie-catrd')"
   ]
  },
  {
   "cell_type": "code",
   "execution_count": 30,
   "metadata": {
    "ExecuteTime": {
     "end_time": "2021-02-25T11:04:59.734561Z",
     "start_time": "2021-02-25T11:04:59.617626Z"
    }
   },
   "outputs": [
    {
     "name": "stdout",
     "output_type": "stream",
     "text": [
      "Taylor Swift: The Eras Tour\n",
      "(13 de octubre)\n"
     ]
    },
    {
     "name": "stdout",
     "output_type": "stream",
     "text": [
      "https://www.filmaffinity.com/es/film527865.html\n",
      "Me he hecho viral\n",
      "(11 de octubre)\n",
      "https://www.filmaffinity.com/es/film486375.html\n",
      "La Patrulla Canina: La superpelícula\n",
      "(11 de octubre)\n",
      "https://www.filmaffinity.com/es/film935252.html\n",
      "Sound of Freedom\n",
      "(11 de octubre)\n",
      "https://www.filmaffinity.com/es/film678456.html\n",
      "O corno\n",
      "(11 de octubre)\n",
      "https://www.filmaffinity.com/es/film212116.html\n",
      "Al otro lado del río y entre los árboles\n",
      "(11 de octubre)\n",
      "https://www.filmaffinity.com/es/film195838.html\n",
      "Orlando, mi biografía política\n",
      "(11 de octubre)\n",
      "https://www.filmaffinity.com/es/film304660.html\n",
      "La vida de Brianeitor\n",
      "(11 de octubre)\n",
      "https://www.filmaffinity.com/es/film504999.html\n",
      "Los colonos\n",
      "(11 de octubre)\n",
      "https://www.filmaffinity.com/es/film931693.html\n",
      "Los asesinos de la luna\n",
      "(20 de octubre)\n",
      "https://www.filmaffinity.com/es/film970587.html\n",
      "Mi otro Jon\n",
      "(20 de octubre)\n",
      "https://www.filmaffinity.com/es/film750006.html\n",
      "El reino animal\n",
      "(20 de octubre)\n",
      "https://www.filmaffinity.com/es/film930773.html\n",
      "El legado\n",
      "(20 de octubre)\n",
      "https://www.filmaffinity.com/es/film749522.html\n",
      "Nyad\n",
      "(20 de octubre)\n",
      "https://www.filmaffinity.com/es/film788969.html\n",
      "La isla roja\n",
      "(20 de octubre)\n",
      "https://www.filmaffinity.com/es/film797106.html\n",
      "Juego prohibido (The Forbidden Play)\n",
      "(20 de octubre)\n",
      "https://www.filmaffinity.com/es/film223980.html\n",
      "Camino de la suerte\n",
      "(20 de octubre)\n",
      "https://www.filmaffinity.com/es/film174083.html\n",
      "Conversaciones sobre el odio\n",
      "(20 de octubre)\n",
      "https://www.filmaffinity.com/es/film245863.html\n",
      "Campamento Valentía\n",
      "(15 de octubre)\n",
      "https://www.filmaffinity.com/es/film358785.html\n",
      "La conferencia\n",
      "(13 de octubre)\n",
      "https://www.filmaffinity.com/es/film691566.html\n",
      "Los diamantes de la discordia\n",
      "(13 de octubre)\n",
      "https://www.filmaffinity.com/es/film710764.html\n",
      "La caída de la casa Usher (Miniserie de TV)\n",
      "(12 de octubre)\n",
      "https://www.filmaffinity.com/es/film816971.html\n",
      "Buenas noches, mundo (Serie de TV)\n",
      "(12 de octubre)\n",
      "https://www.filmaffinity.com/es/film849270.html\n",
      "Érase una vez una estrella\n",
      "(11 de octubre)\n",
      "https://www.filmaffinity.com/es/film969991.html\n",
      "Pacto de silencio (Serie de TV)\n",
      "(11 de octubre)\n",
      "https://www.filmaffinity.com/es/film989972.html\n",
      "El gran vapeo: Auge y caída de Juul (Miniserie de TV)\n",
      "(11 de octubre)\n",
      "https://www.filmaffinity.com/es/film688662.html\n",
      "Llorar, reír, ganar (Serie de TV)\n",
      "(10 de octubre)\n",
      "https://www.filmaffinity.com/es/film449694.html\n",
      "Operaciones especiales: Lioness (Serie de TV)\n",
      "(30 de octubre)\n",
      "https://www.filmaffinity.com/es/film736866.html\n",
      "Mentiras pasajeras (Serie de TV)\n",
      "(9 de octubre)\n",
      "https://www.filmaffinity.com/es/film943429.html\n",
      "Dungeons & Dragons: Honor entre ladrones\n",
      "(6 de octubre)\n",
      "https://www.filmaffinity.com/es/film363637.html\n",
      "Codename: Annika (Serie de TV)\n",
      "(30 de septiembre)\n",
      "https://www.filmaffinity.com/es/film746153.html\n",
      "Deadlocked: How America Shaped the Supreme Court (Miniserie de TV)\n",
      "(22 de septiembre)\n",
      "https://www.filmaffinity.com/es/film414673.html\n",
      "Poker Face (Serie de TV)\n",
      "(15 de septiembre)\n",
      "https://www.filmaffinity.com/es/film792513.html\n",
      "The Winner (Serie de TV)\n",
      "(4 de septiembre)\n",
      "https://www.filmaffinity.com/es/film738393.html\n",
      "Bupkis (Serie de TV)\n",
      "(4 de agosto)\n",
      "https://www.filmaffinity.com/es/film270652.html\n",
      "Django (Serie de TV)\n",
      "(10 de julio)\n",
      "https://www.filmaffinity.com/es/film184241.html\n",
      "Érase una vez un estudio (C)\n",
      "(16 de octubre)\n",
      "https://www.filmaffinity.com/es/film796656.html\n",
      "Pesadillas (Serie de TV)\n",
      "(13 de octubre)\n",
      "https://www.filmaffinity.com/es/film647552.html\n",
      "Nada (Miniserie de TV)\n",
      "(11 de octubre)\n",
      "https://www.filmaffinity.com/es/film759695.html\n",
      "The Boogeyman\n",
      "(11 de octubre)\n",
      "https://www.filmaffinity.com/es/film719152.html\n",
      "4Ever (Miniserie de TV)\n",
      "(11 de octubre)\n",
      "https://www.filmaffinity.com/es/film468717.html\n",
      "Loki (Serie de TV)\n",
      "(6 de octubre)\n",
      "https://www.filmaffinity.com/es/film700415.html\n",
      "Mansión encantada\n",
      "(4 de octubre)\n",
      "https://www.filmaffinity.com/es/film877517.html\n",
      "Launchpad (Serie de TV)\n",
      "(29 de septiembre)\n",
      "https://www.filmaffinity.com/es/film780594.html\n",
      "El tejado (C)\n",
      "(29 de septiembre)\n",
      "https://www.filmaffinity.com/es/film217063.html\n",
      "Novembre\n",
      "(16 de octubre)\n",
      "https://www.filmaffinity.com/es/film255835.html\n",
      "Sniper: E.I.R.G. – Equipo de inteligencia y respuesta global\n",
      "(16 de octubre)\n",
      "https://www.filmaffinity.com/es/film475675.html\n",
      "Merkel\n",
      "(15 de octubre)\n",
      "https://www.filmaffinity.com/es/film106479.html\n",
      "¿Y qué tendrá que ver el amor?\n",
      "(15 de octubre)\n",
      "https://www.filmaffinity.com/es/film795843.html\n",
      "La ciudad perdida\n",
      "(14 de octubre)\n",
      "https://www.filmaffinity.com/es/film665747.html\n",
      "Un extraño en nuestra cama\n",
      "(14 de octubre)\n",
      "https://www.filmaffinity.com/es/film810748.html\n",
      "Llaman a la puerta\n",
      "(13 de octubre)\n",
      "https://www.filmaffinity.com/es/film401086.html\n",
      "La tragedia de los Andes\n",
      "(13 de octubre)\n",
      "https://www.filmaffinity.com/es/film856595.html\n",
      "Una vida no tan simple\n",
      "(13 de octubre)\n",
      "https://www.filmaffinity.com/es/film156936.html\n",
      "Rick y Morty (Serie de TV)\n",
      "(16 de octubre)\n",
      "https://www.filmaffinity.com/es/film551351.html\n",
      "The Insurrectionist Next Door\n",
      "(16 de octubre)\n",
      "https://www.filmaffinity.com/es/film352170.html\n",
      "Requisitos para ser una persona normal\n",
      "(13 de octubre)\n",
      "https://www.filmaffinity.com/es/film514545.html\n",
      "Intemperie\n",
      "(13 de octubre)\n",
      "https://www.filmaffinity.com/es/film300469.html\n",
      "Doom Patrol (Serie de TV)\n",
      "(13 de octubre)\n",
      "https://www.filmaffinity.com/es/film599649.html\n",
      "El juego de las llaves\n",
      "(11 de octubre)\n",
      "https://www.filmaffinity.com/es/film640771.html\n",
      "Con premeditación\n",
      "(11 de octubre)\n",
      "https://www.filmaffinity.com/es/film190014.html\n",
      "Los Murdaugh: Una dinastía letal (Miniserie de TV)\n",
      "(11 de octubre)\n",
      "https://www.filmaffinity.com/es/film279974.html\n",
      "El asesinato de Grace Millane (TV)\n",
      "(11 de octubre)\n",
      "https://www.filmaffinity.com/es/film973965.html\n",
      "The Burial\n",
      "(13 de octubre)\n",
      "https://www.filmaffinity.com/es/film535805.html\n",
      "Cosecha oscura\n",
      "(13 de octubre)\n",
      "https://www.filmaffinity.com/es/film429566.html\n",
      "A todos les gustan los diamantes (Serie de TV)\n",
      "(13 de octubre)\n",
      "https://www.filmaffinity.com/es/film263243.html\n",
      "Awareness\n",
      "(11 de octubre)\n",
      "https://www.filmaffinity.com/es/film142233.html\n",
      "Sangrientos dieciséis\n",
      "(6 de octubre)\n",
      "https://www.filmaffinity.com/es/film368017.html\n",
      "Urban. La vida es nuestra (Serie de TV)\n",
      "(4 de octubre)\n",
      "https://www.filmaffinity.com/es/film197263.html\n",
      "Mirai Nikki (Serie de TV)\n",
      "(4 de octubre)\n",
      "https://www.filmaffinity.com/es/film281818.html\n",
      "Los dos amores de mi vida\n",
      "(2 de octubre)\n",
      "https://www.filmaffinity.com/es/film854821.html\n",
      "Gen V (Serie de TV)\n",
      "(29 de septiembre)\n",
      "https://www.filmaffinity.com/es/film300335.html\n",
      "La pasión de Kierkegaard\n",
      "(13 de octubre)\n",
      "https://www.filmaffinity.com/es/film489786.html\n",
      "Adiós, señor Haffmann\n",
      "(13 de octubre)\n",
      "https://www.filmaffinity.com/es/film489595.html\n",
      "El robo del siglo\n",
      "(13 de octubre)\n",
      "https://www.filmaffinity.com/es/film338281.html\n",
      "9\n",
      "(13 de octubre)\n",
      "https://www.filmaffinity.com/es/film455744.html\n",
      "Dreamover\n",
      "(13 de octubre)\n",
      "https://www.filmaffinity.com/es/film386561.html\n",
      "Annular Eclipse\n",
      "(13 de octubre)\n",
      "https://www.filmaffinity.com/es/film177130.html\n",
      "A los libros y a las mujeres canto\n",
      "(12 de octubre)\n",
      "https://www.filmaffinity.com/es/film999712.html\n",
      "Upon Entry (La llegada)\n",
      "(12 de octubre)\n",
      "https://www.filmaffinity.com/es/film538977.html\n",
      "Manual de la vida salvaje (Serie de TV)\n",
      "(10 de octubre)\n",
      "https://www.filmaffinity.com/es/film255273.html\n",
      "Cocina con química (Serie de TV)\n",
      "(13 de octubre)\n",
      "https://www.filmaffinity.com/es/film580059.html\n",
      "Messi llega a Estados Unidos (Miniserie de TV)\n",
      "(11 de octubre)\n",
      "https://www.filmaffinity.com/es/film423554.html\n",
      "Flora y su hijo Max\n",
      "(29 de septiembre)\n",
      "https://www.filmaffinity.com/es/film905871.html\n",
      "¡No interrumpas, gallinita! (Serie de TV)\n",
      "(29 de septiembre)\n",
      "https://www.filmaffinity.com/es/film729400.html\n",
      "Noches en vela (Serie de TV)\n",
      "(22 de septiembre)\n",
      "https://www.filmaffinity.com/es/film863689.html\n",
      "Las supermodelos (Miniserie de TV)\n",
      "(20 de septiembre)\n",
      "https://www.filmaffinity.com/es/film265916.html\n",
      "The Morning Show (Serie de TV)\n",
      "(13 de septiembre)\n",
      "https://www.filmaffinity.com/es/film474882.html\n",
      "The Changeling (Serie de TV)\n",
      "(8 de septiembre)\n",
      "https://www.filmaffinity.com/es/film459756.html\n",
      "Se busca: Carlos Ghosn (Miniserie de TV)\n",
      "(25 de agosto)\n",
      "https://www.filmaffinity.com/es/film115370.html\n",
      "Elemental\n",
      "(16 de octubre)\n",
      "https://www.filmaffinity.com/es/film313208.html\n",
      "Transformers: El despertar de las bestias\n",
      "(16 de octubre)\n",
      "https://www.filmaffinity.com/es/film400127.html\n",
      "Entrega urgente\n",
      "(16 de octubre)\n",
      "https://www.filmaffinity.com/es/film197603.html\n",
      "Vuelo al límite\n",
      "(16 de octubre)\n",
      "https://www.filmaffinity.com/es/film625962.html\n",
      "97 minutos\n",
      "(16 de octubre)\n",
      "https://www.filmaffinity.com/es/film516159.html\n",
      "Padre y soldado\n",
      "(10 de octubre)\n",
      "https://www.filmaffinity.com/es/film337035.html\n",
      "Plan A\n",
      "(10 de octubre)\n",
      "https://www.filmaffinity.com/es/film255469.html\n",
      "Els encantats (Los encantados)\n",
      "(10 de octubre)\n",
      "https://www.filmaffinity.com/es/film653709.html\n",
      "Cariño, cuánto te odio\n",
      "(10 de octubre)\n",
      "https://www.filmaffinity.com/es/film873664.html\n",
      "Sniper: E.I.R.G. – Equipo de inteligencia y respuesta global\n",
      "(16 de octubre)\n",
      "https://www.filmaffinity.com/es/film475675.html\n",
      "¿Y qué tendrá que ver el amor?\n",
      "(15 de octubre)\n",
      "https://www.filmaffinity.com/es/film795843.html\n",
      "Gran Turismo\n",
      "(13 de octubre)\n",
      "https://www.filmaffinity.com/es/film333310.html\n",
      "Una vida no tan simple\n",
      "(13 de octubre)\n",
      "https://www.filmaffinity.com/es/film156936.html\n",
      "La maison\n",
      "(13 de octubre)\n",
      "https://www.filmaffinity.com/es/film444031.html\n",
      "Una pequeña mentira\n",
      "(13 de octubre)\n",
      "https://www.filmaffinity.com/es/film512766.html\n",
      "Halloween: desaparecida\n",
      "(13 de octubre)\n",
      "https://www.filmaffinity.com/es/film140478.html\n",
      "Virtual Fighter\n",
      "(13 de octubre)\n",
      "https://www.filmaffinity.com/es/film920363.html\n",
      "The Boogeyman\n",
      "(10 de octubre)\n",
      "https://www.filmaffinity.com/es/film719152.html\n",
      "Juicio al diablo\n",
      "(17 de octubre)\n",
      "https://www.filmaffinity.com/es/film999921.html\n",
      "Me desperté vampira (Serie de TV)\n",
      "(17 de octubre)\n",
      "https://www.filmaffinity.com/es/film780676.html\n",
      "Aguas prohibidas (Serie de TV)\n",
      "(18 de octubre)\n",
      "https://www.filmaffinity.com/es/film227155.html\n",
      "Capitán Laserhawk: Un remix de Blood Dragon (Serie de TV)\n",
      "(19 de octubre)\n",
      "https://www.filmaffinity.com/es/film977564.html\n",
      "Cadáveres (Serie de TV)\n",
      "(19 de octubre)\n",
      "https://www.filmaffinity.com/es/film947652.html\n",
      "Luces de neón (Serie de TV)\n",
      "(19 de octubre)\n",
      "https://www.filmaffinity.com/es/film670945.html\n",
      "Un final de Ramadán accidentado (Serie de TV)\n",
      "(19 de octubre)\n",
      "https://www.filmaffinity.com/es/film630389.html\n",
      "Élite (Serie de TV)\n",
      "(20 de octubre)\n",
      "https://www.filmaffinity.com/es/film204759.html\n",
      "Papás a la antigua\n",
      "(20 de octubre)\n",
      "https://www.filmaffinity.com/es/film978490.html\n"
     ]
    }
   ],
   "source": [
    "for peli in cajon_central:\n",
    "    print(peli.find_element(By.TAG_NAME, 'div').text)\n",
    "    print(peli.find_element(By.TAG_NAME, 'a').get_attribute('href'))"
   ]
  },
  {
   "cell_type": "markdown",
   "metadata": {},
   "source": [
    "Vamos a ver cómo nos podemos mover entre ventanas del navegador\n",
    "\n",
    "Abrir nueva ventana:"
   ]
  },
  {
   "cell_type": "code",
   "execution_count": 31,
   "metadata": {},
   "outputs": [],
   "source": [
    "driver.execute_script('window.open(\"\");')"
   ]
  },
  {
   "cell_type": "markdown",
   "metadata": {},
   "source": [
    "Movernos a otra ventana"
   ]
  },
  {
   "cell_type": "code",
   "execution_count": 33,
   "metadata": {},
   "outputs": [],
   "source": [
    "driver.switch_to.window(driver.window_handles[1])"
   ]
  },
  {
   "cell_type": "markdown",
   "metadata": {},
   "source": [
    "Cerrar ventana"
   ]
  },
  {
   "cell_type": "code",
   "execution_count": 34,
   "metadata": {},
   "outputs": [],
   "source": [
    "driver.close()"
   ]
  },
  {
   "cell_type": "markdown",
   "metadata": {},
   "source": [
    "Una vez cerramos la ventana tenemos que indicarle a qué ventana tiene que ir"
   ]
  },
  {
   "cell_type": "code",
   "execution_count": 35,
   "metadata": {
    "ExecuteTime": {
     "end_time": "2021-02-25T12:05:01.711952Z",
     "start_time": "2021-02-25T12:05:01.583709Z"
    }
   },
   "outputs": [],
   "source": [
    "driver.switch_to.window(driver.window_handles[-1])"
   ]
  },
  {
   "cell_type": "code",
   "execution_count": 36,
   "metadata": {},
   "outputs": [],
   "source": [
    "driver.close()"
   ]
  }
 ],
 "metadata": {
  "hide_input": false,
  "kernelspec": {
   "display_name": "Python 3.7.4 64-bit",
   "language": "python",
   "name": "python3"
  },
  "language_info": {
   "codemirror_mode": {
    "name": "ipython",
    "version": 3
   },
   "file_extension": ".py",
   "mimetype": "text/x-python",
   "name": "python",
   "nbconvert_exporter": "python",
   "pygments_lexer": "ipython3",
   "version": "3.11.3"
  },
  "nbTranslate": {
   "displayLangs": [
    "*"
   ],
   "hotkey": "alt-t",
   "langInMainMenu": true,
   "sourceLang": "en",
   "targetLang": "fr",
   "useGoogleTranslate": true
  },
  "varInspector": {
   "cols": {
    "lenName": 16,
    "lenType": 16,
    "lenVar": 40
   },
   "kernels_config": {
    "python": {
     "delete_cmd_postfix": "",
     "delete_cmd_prefix": "del ",
     "library": "var_list.py",
     "varRefreshCmd": "print(var_dic_list())"
    },
    "r": {
     "delete_cmd_postfix": ") ",
     "delete_cmd_prefix": "rm(",
     "library": "var_list.r",
     "varRefreshCmd": "cat(var_dic_list()) "
    }
   },
   "types_to_exclude": [
    "module",
    "function",
    "builtin_function_or_method",
    "instance",
    "_Feature"
   ],
   "window_display": false
  },
  "vscode": {
   "interpreter": {
    "hash": "90139cb9a825bf3d63f6f6704e828dbd1ff7edbd4d0c6e906a71235d6efc74af"
   }
  }
 },
 "nbformat": 4,
 "nbformat_minor": 2
}
