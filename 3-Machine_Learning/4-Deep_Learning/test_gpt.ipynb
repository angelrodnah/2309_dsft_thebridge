{
 "cells": [
  {
   "cell_type": "markdown",
   "metadata": {},
   "source": [
    "# Testing OpenAI Api"
   ]
  },
  {
   "cell_type": "code",
   "execution_count": null,
   "metadata": {},
   "outputs": [],
   "source": [
    "# !pip install openai"
   ]
  },
  {
   "cell_type": "code",
   "execution_count": 2,
   "metadata": {},
   "outputs": [
    {
     "name": "stdout",
     "output_type": "stream",
     "text": [
      "En el vasto universo del código,\n",
      "donde los algoritmos se tejen con esmero,\n",
      "existe un concepto fascinante y valioso,\n",
      "que se llama \"recursión\", un enigma sincero.\n",
      "\n",
      "Como el eco de un canto que se reitera,\n",
      "la recursión se repite sin cesar,\n",
      "una función que a sí misma invoca,\n",
      "como un bucle infinito en un mar sin final.\n",
      "\n",
      "En su esencia, es como un espejo mágico,\n",
      "que se refleja en su propia creación,\n",
      "pues al llamarse a sí misma con gran encanto,\n",
      "va creando una danza de repetición.\n",
      "\n",
      "En la soledad de la memoria se despliega,\n",
      "dibujando fractales de lógica pura,\n",
      "misteriosos caminos que se entrelazan,\n",
      "en un baile de preguntas sin medida ni altura.\n",
      "\n",
      "El inmenso poder de la recursión,\n",
      "radica en su habilidad de desafiar,\n",
      "problemas complejos, sin solución aparente,\n",
      "resolviendo cada paso con audacia sin par.\n",
      "\n",
      "Como el suspiro de un viento itinerante,\n",
      "la recursión se adentra en profundidades,\n",
      "desenredando laberintos dificultosos,\n",
      "hasta hallar las respuestas sin ver limitaciones.\n",
      "\n",
      "Pero en su belleza también yace un riesgo,\n",
      "la amenaza del infinito y la agonía,\n",
      "pues sin condiciones de fin, quedará atrapada,\n",
      "en un bucle eterno, en una eterna melodía.\n",
      "\n",
      "Así la recursión, un noble herramienta,\n",
      "que puede elevarnos a grandes alturas,\n",
      "pero con cuidado ha de ser empleada,\n",
      "para evitar caer en complicadas trampas seguras.\n",
      "\n",
      "En el universo del código infinito,\n",
      "la recursión brilla como estrella radiante,\n",
      "guiándonos en el laberinto del destino,\n",
      "donde la lógica y la poesía se encuentran delante. \n"
     ]
    }
   ],
   "source": [
    "from openai import OpenAI\n",
    "client = OpenAI(api_key=\"\")\n",
    "\n",
    "completion = client.chat.completions.create(\n",
    "  model=\"gpt-3.5-turbo\",\n",
    "  messages=[\n",
    "    {\"role\": \"system\", \"content\": \"You are a poetic assistantq, skilled in explaining complex programming concepts with creative flair. Always in spanish.\"},\n",
    "    {\"role\": \"user\", \"content\": \"Compose a poem that explains the concept of recursion in programming.\"}\n",
    "  ]\n",
    ")\n",
    "\n",
    "print(completion.choices[0].message.content)"
   ]
  }
 ],
 "metadata": {
  "kernelspec": {
   "display_name": "Python 3",
   "language": "python",
   "name": "python3"
  },
  "language_info": {
   "codemirror_mode": {
    "name": "ipython",
    "version": 3
   },
   "file_extension": ".py",
   "mimetype": "text/x-python",
   "name": "python",
   "nbconvert_exporter": "python",
   "pygments_lexer": "ipython3",
   "version": "3.11.3"
  }
 },
 "nbformat": 4,
 "nbformat_minor": 2
}
