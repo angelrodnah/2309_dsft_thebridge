{
 "cells": [
  {
   "cell_type": "markdown",
   "metadata": {},
   "source": [
    "# Test y Despliegue"
   ]
  },
  {
   "cell_type": "markdown",
   "metadata": {},
   "source": [
    "\n",
    "Partes de la aplicación Flask de la anterior tarea, que contiene una API con tres endpoints: /ingest, /predict, y /retrain. Sin embargo, hay problemas identificados en la aplicación que impiden que pase los tests provistos.\n",
    "\n",
    "Las tareas principales son:\n",
    "\n",
    "1. **Debugging de la Aplicación Flask:**\n",
    "La aplicación Flask tiene problemas que impiden que pase los tests proporcionados. Los tests cubren la funcionalidad de los tres endpoints, verificando su correcto funcionamiento y las respuestas esperadas. Tus tareas son:\n",
    "\n",
    "* Identificar y corregir los problemas en la aplicación para que pase los tests proporcionados.\n",
    "* Asegurar que la lógica de los endpoints cumpla con las especificaciones dadas.\n",
    "\n",
    "2. **Despliegue en Docker Hub:**\n",
    "Una vez que la aplicación pasa los tests y está funcionando correctamente de manera local, se requiere desplegar la aplicación en Docker Hub para facilitar su despliegue en diferentes equipos. Tus tareas son:\n",
    "\n",
    "* Crear un Dockerfile adecuado para la aplicación Flask.\n",
    "* Construir una imagen Docker de la aplicación.\n",
    "* Subir la imagen de la aplicación a Docker Hub.\n",
    "\n",
    "La aplicación debe pasar los tests proporcionados después de realizar correccione y debe ser desplegada en Docker Hub correctamente.\n",
    "Se evaluará en directo el resultado de vuestros despliegues.\n",
    "\n",
    "**Entrega**:\n",
    "La URL de Docker Hub donde se ha subido la imagen de la aplicación"
   ]
  },
  {
   "cell_type": "code",
   "execution_count": null,
   "metadata": {},
   "outputs": [],
   "source": [
    "# !pip install pytest\n",
    "# pytest test_api.py"
   ]
  },
  {
   "cell_type": "code",
   "execution_count": 6,
   "metadata": {},
   "outputs": [],
   "source": [
    "import requests\n",
    "\n",
    "def test_ingest_endpoint():\n",
    "    url = 'http://localhost:5000/ingest'  \n",
    "    data = {'data': [[100, 100, 200, 3000], [200, 230, 500, 4000]]}\n",
    "    response = requests.post(url, json=data)\n",
    "    assert response.status_code == 200\n",
    "    assert response.json() == {'message': 'Datos ingresados correctamente'}\n",
    "\n",
    "def test_predict_endpoint():\n",
    "    url = 'http://localhost:5000/predict'  \n",
    "    data = {'data': [[100, 100, 200]]} \n",
    "    \n",
    "    response = requests.get(url, json=data)\n",
    "    assert response.status_code == 200\n",
    "    assert 'prediction' in response.json()\n",
    "\n",
    "def test_retrain_endpoint():\n",
    "    url = 'http://localhost:5000/retrain'  \n",
    "    response = requests.post(url)\n",
    "    assert response.status_code == 200\n",
    "    assert response.json() == {'message': 'Modelo reentrenado correctamente.'}\n"
   ]
  },
  {
   "cell_type": "code",
   "execution_count": 20,
   "metadata": {},
   "outputs": [],
   "source": [
    "test_ingest_endpoint()"
   ]
  },
  {
   "cell_type": "code",
   "execution_count": 21,
   "metadata": {},
   "outputs": [],
   "source": [
    "test_predict_endpoint()"
   ]
  },
  {
   "cell_type": "code",
   "execution_count": 23,
   "metadata": {},
   "outputs": [],
   "source": [
    "test_retrain_endpoint()"
   ]
  },
  {
   "cell_type": "code",
   "execution_count": 13,
   "metadata": {},
   "outputs": [],
   "source": [
    "import numpy as np"
   ]
  },
  {
   "cell_type": "code",
   "execution_count": 15,
   "metadata": {},
   "outputs": [
    {
     "name": "stdout",
     "output_type": "stream",
     "text": [
      "[[200, 200, 200]]\n",
      "[[200, 300, 300]]\n"
     ]
    }
   ],
   "source": [
    "for valor in [[200,200,200], [200,300,300]]:\n",
    "    print([valor])"
   ]
  }
 ],
 "metadata": {
  "kernelspec": {
   "display_name": "Python 3",
   "language": "python",
   "name": "python3"
  },
  "language_info": {
   "codemirror_mode": {
    "name": "ipython",
    "version": 3
   },
   "file_extension": ".py",
   "mimetype": "text/x-python",
   "name": "python",
   "nbconvert_exporter": "python",
   "pygments_lexer": "ipython3",
   "version": "3.11.3"
  }
 },
 "nbformat": 4,
 "nbformat_minor": 2
}
